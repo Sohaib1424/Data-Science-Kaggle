{
 "cells": [
  {
   "cell_type": "code",
   "execution_count": 1,
   "id": "1b2a1b07",
   "metadata": {},
   "outputs": [],
   "source": [
    "import numpy as np\n",
    "import pandas as pd\n",
    "import matplotlib.pyplot as plt\n",
    "from sklearn.linear_model import PoissonRegressor\n",
    "from sklearn.model_selection import train_test_split\n",
    "from sklearn import metrics\n",
    "import seaborn as sns"
   ]
  },
  {
   "cell_type": "markdown",
   "id": "1b6c79b7",
   "metadata": {},
   "source": [
    "### Loading Data"
   ]
  },
  {
   "cell_type": "markdown",
   "id": "21775e1f",
   "metadata": {},
   "source": [
    "This dataset is a daily record of the number of bicycles crossing into or out if Manhattan via one of the East River bridges over 1 month.\n",
    "\n",
    "Here is the linke for the dataset on kaggle: \n",
    "https://www.kaggle.com/datasets/new-york-city/nyc-east-river-bicycle-crossings"
   ]
  },
  {
   "cell_type": "code",
   "execution_count": 2,
   "id": "6392bab7",
   "metadata": {},
   "outputs": [],
   "source": [
    "nyc_bike_data = pd.read_csv(\"nyc-east-river-bicycle-counts.csv\", index_col='Date', parse_dates = True)"
   ]
  },
  {
   "cell_type": "code",
   "execution_count": 3,
   "id": "fef0cfbd",
   "metadata": {},
   "outputs": [
    {
     "data": {
      "text/html": [
       "<div>\n",
       "<style scoped>\n",
       "    .dataframe tbody tr th:only-of-type {\n",
       "        vertical-align: middle;\n",
       "    }\n",
       "\n",
       "    .dataframe tbody tr th {\n",
       "        vertical-align: top;\n",
       "    }\n",
       "\n",
       "    .dataframe thead th {\n",
       "        text-align: right;\n",
       "    }\n",
       "</style>\n",
       "<table border=\"1\" class=\"dataframe\">\n",
       "  <thead>\n",
       "    <tr style=\"text-align: right;\">\n",
       "      <th></th>\n",
       "      <th>Unnamed: 0</th>\n",
       "      <th>Day</th>\n",
       "      <th>High Temp (°F)</th>\n",
       "      <th>Low Temp (°F)</th>\n",
       "      <th>Precipitation</th>\n",
       "      <th>Brooklyn Bridge</th>\n",
       "      <th>Manhattan Bridge</th>\n",
       "      <th>Williamsburg Bridge</th>\n",
       "      <th>Queensboro Bridge</th>\n",
       "      <th>Total</th>\n",
       "    </tr>\n",
       "    <tr>\n",
       "      <th>Date</th>\n",
       "      <th></th>\n",
       "      <th></th>\n",
       "      <th></th>\n",
       "      <th></th>\n",
       "      <th></th>\n",
       "      <th></th>\n",
       "      <th></th>\n",
       "      <th></th>\n",
       "      <th></th>\n",
       "      <th></th>\n",
       "    </tr>\n",
       "  </thead>\n",
       "  <tbody>\n",
       "    <tr>\n",
       "      <th>2016-04-01</th>\n",
       "      <td>0</td>\n",
       "      <td>2016-04-01 00:00:00</td>\n",
       "      <td>78.1</td>\n",
       "      <td>66.0</td>\n",
       "      <td>0.01</td>\n",
       "      <td>1704.0</td>\n",
       "      <td>3126</td>\n",
       "      <td>4115.0</td>\n",
       "      <td>2552.0</td>\n",
       "      <td>11497</td>\n",
       "    </tr>\n",
       "    <tr>\n",
       "      <th>2016-04-02</th>\n",
       "      <td>1</td>\n",
       "      <td>2016-04-02 00:00:00</td>\n",
       "      <td>55.0</td>\n",
       "      <td>48.9</td>\n",
       "      <td>0.15</td>\n",
       "      <td>827.0</td>\n",
       "      <td>1646</td>\n",
       "      <td>2565.0</td>\n",
       "      <td>1884.0</td>\n",
       "      <td>6922</td>\n",
       "    </tr>\n",
       "    <tr>\n",
       "      <th>2016-04-03</th>\n",
       "      <td>2</td>\n",
       "      <td>2016-04-03 00:00:00</td>\n",
       "      <td>39.9</td>\n",
       "      <td>34.0</td>\n",
       "      <td>0.09</td>\n",
       "      <td>526.0</td>\n",
       "      <td>1232</td>\n",
       "      <td>1695.0</td>\n",
       "      <td>1306.0</td>\n",
       "      <td>4759</td>\n",
       "    </tr>\n",
       "    <tr>\n",
       "      <th>2016-04-04</th>\n",
       "      <td>3</td>\n",
       "      <td>2016-04-04 00:00:00</td>\n",
       "      <td>44.1</td>\n",
       "      <td>33.1</td>\n",
       "      <td>0.47 (S)</td>\n",
       "      <td>521.0</td>\n",
       "      <td>1067</td>\n",
       "      <td>1440.0</td>\n",
       "      <td>1307.0</td>\n",
       "      <td>4335</td>\n",
       "    </tr>\n",
       "    <tr>\n",
       "      <th>2016-04-05</th>\n",
       "      <td>4</td>\n",
       "      <td>2016-04-05 00:00:00</td>\n",
       "      <td>42.1</td>\n",
       "      <td>26.1</td>\n",
       "      <td>0</td>\n",
       "      <td>1416.0</td>\n",
       "      <td>2617</td>\n",
       "      <td>3081.0</td>\n",
       "      <td>2357.0</td>\n",
       "      <td>9471</td>\n",
       "    </tr>\n",
       "  </tbody>\n",
       "</table>\n",
       "</div>"
      ],
      "text/plain": [
       "            Unnamed: 0                  Day  High Temp (°F)  Low Temp (°F)  \\\n",
       "Date                                                                         \n",
       "2016-04-01           0  2016-04-01 00:00:00            78.1           66.0   \n",
       "2016-04-02           1  2016-04-02 00:00:00            55.0           48.9   \n",
       "2016-04-03           2  2016-04-03 00:00:00            39.9           34.0   \n",
       "2016-04-04           3  2016-04-04 00:00:00            44.1           33.1   \n",
       "2016-04-05           4  2016-04-05 00:00:00            42.1           26.1   \n",
       "\n",
       "           Precipitation  Brooklyn Bridge  Manhattan Bridge  \\\n",
       "Date                                                          \n",
       "2016-04-01          0.01           1704.0              3126   \n",
       "2016-04-02          0.15            827.0              1646   \n",
       "2016-04-03          0.09            526.0              1232   \n",
       "2016-04-04      0.47 (S)            521.0              1067   \n",
       "2016-04-05             0           1416.0              2617   \n",
       "\n",
       "            Williamsburg Bridge  Queensboro Bridge  Total  \n",
       "Date                                                       \n",
       "2016-04-01               4115.0             2552.0  11497  \n",
       "2016-04-02               2565.0             1884.0   6922  \n",
       "2016-04-03               1695.0             1306.0   4759  \n",
       "2016-04-04               1440.0             1307.0   4335  \n",
       "2016-04-05               3081.0             2357.0   9471  "
      ]
     },
     "execution_count": 3,
     "metadata": {},
     "output_type": "execute_result"
    }
   ],
   "source": [
    "nyc_bike_data.head()"
   ]
  },
  {
   "cell_type": "code",
   "execution_count": 4,
   "id": "db2fb1f0",
   "metadata": {},
   "outputs": [],
   "source": [
    "# Renaming some of the columns\n",
    "nyc_bike_data = nyc_bike_data.rename(columns={\"High Temp (°F)\": \"HighTemp\", \"Low Temp (°F)\": \"LowTemp\",})"
   ]
  },
  {
   "cell_type": "code",
   "execution_count": 5,
   "id": "6b08b3d7",
   "metadata": {},
   "outputs": [
    {
     "data": {
      "text/plain": [
       "Unnamed: 0               int64\n",
       "Day                     object\n",
       "HighTemp               float64\n",
       "LowTemp                float64\n",
       "Precipitation           object\n",
       "Brooklyn Bridge        float64\n",
       "Manhattan Bridge         int64\n",
       "Williamsburg Bridge    float64\n",
       "Queensboro Bridge      float64\n",
       "Total                    int64\n",
       "dtype: object"
      ]
     },
     "execution_count": 5,
     "metadata": {},
     "output_type": "execute_result"
    }
   ],
   "source": [
    "nyc_bike_data.dtypes"
   ]
  },
  {
   "cell_type": "markdown",
   "id": "0a87e509",
   "metadata": {},
   "source": [
    "### Cleaning Data"
   ]
  },
  {
   "cell_type": "code",
   "execution_count": 6,
   "id": "dc7d22f0",
   "metadata": {},
   "outputs": [
    {
     "data": {
      "text/plain": [
       "Unnamed: 0             0\n",
       "Day                    0\n",
       "HighTemp               0\n",
       "LowTemp                0\n",
       "Precipitation          0\n",
       "Brooklyn Bridge        0\n",
       "Manhattan Bridge       0\n",
       "Williamsburg Bridge    0\n",
       "Queensboro Bridge      0\n",
       "Total                  0\n",
       "dtype: int64"
      ]
     },
     "execution_count": 6,
     "metadata": {},
     "output_type": "execute_result"
    }
   ],
   "source": [
    "# Checking for null values and dropping or handling them if any\n",
    "np.sum(nyc_bike_data.isnull())"
   ]
  },
  {
   "cell_type": "code",
   "execution_count": 7,
   "id": "89588a3e",
   "metadata": {},
   "outputs": [],
   "source": [
    "# Deleting useless and duplacte columns\n",
    "# The column \"Unnamed: 0\" has no use\n",
    "# The column \"Day\" is a duplicate if column \"Date\" that is set as index for the dataframe\n",
    "nyc_bike_data = nyc_bike_data.drop(columns=[\"Unnamed: 0\", \"Day\"])"
   ]
  },
  {
   "cell_type": "code",
   "execution_count": 8,
   "id": "07d47c04",
   "metadata": {},
   "outputs": [
    {
     "data": {
      "text/plain": [
       "array(['0', '0.01', '0.05', '0.09', '0.15', '0.16', '0.2', '0.24',\n",
       "       '0.47 (S)', 'T'], dtype=object)"
      ]
     },
     "execution_count": 8,
     "metadata": {},
     "output_type": "execute_result"
    }
   ],
   "source": [
    "# Checking for inconsistent values in the \"Precipitation\" column\n",
    "Precipitation = nyc_bike_data[\"Precipitation\"].unique()\n",
    "Precipitation.sort()\n",
    "Precipitation"
   ]
  },
  {
   "cell_type": "code",
   "execution_count": 9,
   "id": "035ceda4",
   "metadata": {},
   "outputs": [],
   "source": [
    "# Replacing inconsistent values with consistent values\n",
    "nyc_bike_data[\"Precipitation\"] = nyc_bike_data[\"Precipitation\"].replace(['0.47 (S)', 'T'], ['0.47', '0'])"
   ]
  },
  {
   "cell_type": "code",
   "execution_count": 10,
   "id": "cab1625d",
   "metadata": {},
   "outputs": [],
   "source": [
    "# Changing the type of \"Precipitation\", \"Brooklyn Bridge\", \"Williamsburg Bridge\", \"Queensboro Bridge\" columns\n",
    "nyc_bike_data[\"Precipitation\"] = nyc_bike_data[\"Precipitation\"].astype('float64')\n",
    "nyc_bike_data[\"Brooklyn Bridge\"] = nyc_bike_data[\"Brooklyn Bridge\"].astype('int64')\n",
    "nyc_bike_data[\"Williamsburg Bridge\"] = nyc_bike_data[\"Williamsburg Bridge\"].astype('int64')\n",
    "nyc_bike_data[\"Queensboro Bridge\"] = nyc_bike_data[\"Queensboro Bridge\"].astype('int64')"
   ]
  },
  {
   "cell_type": "code",
   "execution_count": 11,
   "id": "f990c760",
   "metadata": {},
   "outputs": [],
   "source": [
    "# If we pay close attention, the data has 180 duplicated rows\n",
    "# Only 30 rows are the original data\n",
    "# dropping all duplicates\n",
    "nyc_bike_data = nyc_bike_data[:30]"
   ]
  },
  {
   "cell_type": "code",
   "execution_count": 12,
   "id": "8fe46e31",
   "metadata": {},
   "outputs": [
    {
     "data": {
      "text/html": [
       "<div>\n",
       "<style scoped>\n",
       "    .dataframe tbody tr th:only-of-type {\n",
       "        vertical-align: middle;\n",
       "    }\n",
       "\n",
       "    .dataframe tbody tr th {\n",
       "        vertical-align: top;\n",
       "    }\n",
       "\n",
       "    .dataframe thead th {\n",
       "        text-align: right;\n",
       "    }\n",
       "</style>\n",
       "<table border=\"1\" class=\"dataframe\">\n",
       "  <thead>\n",
       "    <tr style=\"text-align: right;\">\n",
       "      <th></th>\n",
       "      <th>HighTemp</th>\n",
       "      <th>LowTemp</th>\n",
       "      <th>Precipitation</th>\n",
       "      <th>Brooklyn Bridge</th>\n",
       "      <th>Manhattan Bridge</th>\n",
       "      <th>Williamsburg Bridge</th>\n",
       "      <th>Queensboro Bridge</th>\n",
       "      <th>Total</th>\n",
       "    </tr>\n",
       "    <tr>\n",
       "      <th>Date</th>\n",
       "      <th></th>\n",
       "      <th></th>\n",
       "      <th></th>\n",
       "      <th></th>\n",
       "      <th></th>\n",
       "      <th></th>\n",
       "      <th></th>\n",
       "      <th></th>\n",
       "    </tr>\n",
       "  </thead>\n",
       "  <tbody>\n",
       "    <tr>\n",
       "      <th>2016-04-01</th>\n",
       "      <td>78.1</td>\n",
       "      <td>66.0</td>\n",
       "      <td>0.01</td>\n",
       "      <td>1704</td>\n",
       "      <td>3126</td>\n",
       "      <td>4115</td>\n",
       "      <td>2552</td>\n",
       "      <td>11497</td>\n",
       "    </tr>\n",
       "    <tr>\n",
       "      <th>2016-04-02</th>\n",
       "      <td>55.0</td>\n",
       "      <td>48.9</td>\n",
       "      <td>0.15</td>\n",
       "      <td>827</td>\n",
       "      <td>1646</td>\n",
       "      <td>2565</td>\n",
       "      <td>1884</td>\n",
       "      <td>6922</td>\n",
       "    </tr>\n",
       "    <tr>\n",
       "      <th>2016-04-03</th>\n",
       "      <td>39.9</td>\n",
       "      <td>34.0</td>\n",
       "      <td>0.09</td>\n",
       "      <td>526</td>\n",
       "      <td>1232</td>\n",
       "      <td>1695</td>\n",
       "      <td>1306</td>\n",
       "      <td>4759</td>\n",
       "    </tr>\n",
       "    <tr>\n",
       "      <th>2016-04-04</th>\n",
       "      <td>44.1</td>\n",
       "      <td>33.1</td>\n",
       "      <td>0.47</td>\n",
       "      <td>521</td>\n",
       "      <td>1067</td>\n",
       "      <td>1440</td>\n",
       "      <td>1307</td>\n",
       "      <td>4335</td>\n",
       "    </tr>\n",
       "    <tr>\n",
       "      <th>2016-04-05</th>\n",
       "      <td>42.1</td>\n",
       "      <td>26.1</td>\n",
       "      <td>0.00</td>\n",
       "      <td>1416</td>\n",
       "      <td>2617</td>\n",
       "      <td>3081</td>\n",
       "      <td>2357</td>\n",
       "      <td>9471</td>\n",
       "    </tr>\n",
       "  </tbody>\n",
       "</table>\n",
       "</div>"
      ],
      "text/plain": [
       "            HighTemp  LowTemp  Precipitation  Brooklyn Bridge  \\\n",
       "Date                                                            \n",
       "2016-04-01      78.1     66.0           0.01             1704   \n",
       "2016-04-02      55.0     48.9           0.15              827   \n",
       "2016-04-03      39.9     34.0           0.09              526   \n",
       "2016-04-04      44.1     33.1           0.47              521   \n",
       "2016-04-05      42.1     26.1           0.00             1416   \n",
       "\n",
       "            Manhattan Bridge  Williamsburg Bridge  Queensboro Bridge  Total  \n",
       "Date                                                                         \n",
       "2016-04-01              3126                 4115               2552  11497  \n",
       "2016-04-02              1646                 2565               1884   6922  \n",
       "2016-04-03              1232                 1695               1306   4759  \n",
       "2016-04-04              1067                 1440               1307   4335  \n",
       "2016-04-05              2617                 3081               2357   9471  "
      ]
     },
     "execution_count": 12,
     "metadata": {},
     "output_type": "execute_result"
    }
   ],
   "source": [
    "nyc_bike_data.head()"
   ]
  },
  {
   "cell_type": "markdown",
   "id": "b4c0789a",
   "metadata": {},
   "source": [
    "### Analyzine Data"
   ]
  },
  {
   "cell_type": "code",
   "execution_count": 13,
   "id": "0cd8f537",
   "metadata": {},
   "outputs": [
    {
     "data": {
      "text/html": [
       "<div>\n",
       "<style scoped>\n",
       "    .dataframe tbody tr th:only-of-type {\n",
       "        vertical-align: middle;\n",
       "    }\n",
       "\n",
       "    .dataframe tbody tr th {\n",
       "        vertical-align: top;\n",
       "    }\n",
       "\n",
       "    .dataframe thead th {\n",
       "        text-align: right;\n",
       "    }\n",
       "</style>\n",
       "<table border=\"1\" class=\"dataframe\">\n",
       "  <thead>\n",
       "    <tr style=\"text-align: right;\">\n",
       "      <th></th>\n",
       "      <th>HighTemp</th>\n",
       "      <th>LowTemp</th>\n",
       "      <th>Precipitation</th>\n",
       "      <th>Brooklyn Bridge</th>\n",
       "      <th>Manhattan Bridge</th>\n",
       "      <th>Williamsburg Bridge</th>\n",
       "      <th>Queensboro Bridge</th>\n",
       "      <th>Total</th>\n",
       "    </tr>\n",
       "  </thead>\n",
       "  <tbody>\n",
       "    <tr>\n",
       "      <th>count</th>\n",
       "      <td>30.000000</td>\n",
       "      <td>30.000000</td>\n",
       "      <td>30.000000</td>\n",
       "      <td>30.000000</td>\n",
       "      <td>30.000000</td>\n",
       "      <td>30.000000</td>\n",
       "      <td>30.000000</td>\n",
       "      <td>30.000000</td>\n",
       "    </tr>\n",
       "    <tr>\n",
       "      <th>mean</th>\n",
       "      <td>60.580000</td>\n",
       "      <td>46.413333</td>\n",
       "      <td>0.052333</td>\n",
       "      <td>2269.633333</td>\n",
       "      <td>4049.533333</td>\n",
       "      <td>4862.466667</td>\n",
       "      <td>3352.866667</td>\n",
       "      <td>14534.500000</td>\n",
       "    </tr>\n",
       "    <tr>\n",
       "      <th>std</th>\n",
       "      <td>11.347289</td>\n",
       "      <td>9.662502</td>\n",
       "      <td>0.103647</td>\n",
       "      <td>995.633241</td>\n",
       "      <td>1729.740976</td>\n",
       "      <td>1840.652747</td>\n",
       "      <td>1115.381263</td>\n",
       "      <td>5650.877227</td>\n",
       "    </tr>\n",
       "    <tr>\n",
       "      <th>min</th>\n",
       "      <td>39.900000</td>\n",
       "      <td>26.100000</td>\n",
       "      <td>0.000000</td>\n",
       "      <td>504.000000</td>\n",
       "      <td>997.000000</td>\n",
       "      <td>1440.000000</td>\n",
       "      <td>1306.000000</td>\n",
       "      <td>4335.000000</td>\n",
       "    </tr>\n",
       "    <tr>\n",
       "      <th>25%</th>\n",
       "      <td>55.500000</td>\n",
       "      <td>44.100000</td>\n",
       "      <td>0.000000</td>\n",
       "      <td>1511.250000</td>\n",
       "      <td>2744.250000</td>\n",
       "      <td>3425.500000</td>\n",
       "      <td>2480.750000</td>\n",
       "      <td>10071.250000</td>\n",
       "    </tr>\n",
       "    <tr>\n",
       "      <th>50%</th>\n",
       "      <td>62.100000</td>\n",
       "      <td>46.900000</td>\n",
       "      <td>0.000000</td>\n",
       "      <td>2379.500000</td>\n",
       "      <td>4165.000000</td>\n",
       "      <td>5194.000000</td>\n",
       "      <td>3477.000000</td>\n",
       "      <td>15292.500000</td>\n",
       "    </tr>\n",
       "    <tr>\n",
       "      <th>75%</th>\n",
       "      <td>68.000000</td>\n",
       "      <td>50.000000</td>\n",
       "      <td>0.080000</td>\n",
       "      <td>3104.000000</td>\n",
       "      <td>5249.750000</td>\n",
       "      <td>6021.250000</td>\n",
       "      <td>4172.750000</td>\n",
       "      <td>18281.250000</td>\n",
       "    </tr>\n",
       "    <tr>\n",
       "      <th>max</th>\n",
       "      <td>81.000000</td>\n",
       "      <td>66.000000</td>\n",
       "      <td>0.470000</td>\n",
       "      <td>3871.000000</td>\n",
       "      <td>6951.000000</td>\n",
       "      <td>7834.000000</td>\n",
       "      <td>5032.000000</td>\n",
       "      <td>23318.000000</td>\n",
       "    </tr>\n",
       "  </tbody>\n",
       "</table>\n",
       "</div>"
      ],
      "text/plain": [
       "        HighTemp    LowTemp  Precipitation  Brooklyn Bridge  Manhattan Bridge  \\\n",
       "count  30.000000  30.000000      30.000000        30.000000         30.000000   \n",
       "mean   60.580000  46.413333       0.052333      2269.633333       4049.533333   \n",
       "std    11.347289   9.662502       0.103647       995.633241       1729.740976   \n",
       "min    39.900000  26.100000       0.000000       504.000000        997.000000   \n",
       "25%    55.500000  44.100000       0.000000      1511.250000       2744.250000   \n",
       "50%    62.100000  46.900000       0.000000      2379.500000       4165.000000   \n",
       "75%    68.000000  50.000000       0.080000      3104.000000       5249.750000   \n",
       "max    81.000000  66.000000       0.470000      3871.000000       6951.000000   \n",
       "\n",
       "       Williamsburg Bridge  Queensboro Bridge         Total  \n",
       "count            30.000000          30.000000     30.000000  \n",
       "mean           4862.466667        3352.866667  14534.500000  \n",
       "std            1840.652747        1115.381263   5650.877227  \n",
       "min            1440.000000        1306.000000   4335.000000  \n",
       "25%            3425.500000        2480.750000  10071.250000  \n",
       "50%            5194.000000        3477.000000  15292.500000  \n",
       "75%            6021.250000        4172.750000  18281.250000  \n",
       "max            7834.000000        5032.000000  23318.000000  "
      ]
     },
     "execution_count": 13,
     "metadata": {},
     "output_type": "execute_result"
    }
   ],
   "source": [
    "nyc_bike_data.describe()"
   ]
  },
  {
   "cell_type": "code",
   "execution_count": 14,
   "id": "83212d7d",
   "metadata": {},
   "outputs": [
    {
     "data": {
      "text/html": [
       "<div>\n",
       "<style scoped>\n",
       "    .dataframe tbody tr th:only-of-type {\n",
       "        vertical-align: middle;\n",
       "    }\n",
       "\n",
       "    .dataframe tbody tr th {\n",
       "        vertical-align: top;\n",
       "    }\n",
       "\n",
       "    .dataframe thead th {\n",
       "        text-align: right;\n",
       "    }\n",
       "</style>\n",
       "<table border=\"1\" class=\"dataframe\">\n",
       "  <thead>\n",
       "    <tr style=\"text-align: right;\">\n",
       "      <th></th>\n",
       "      <th>HighTemp</th>\n",
       "      <th>LowTemp</th>\n",
       "      <th>Precipitation</th>\n",
       "      <th>Brooklyn Bridge</th>\n",
       "      <th>Manhattan Bridge</th>\n",
       "      <th>Williamsburg Bridge</th>\n",
       "      <th>Queensboro Bridge</th>\n",
       "      <th>Total</th>\n",
       "    </tr>\n",
       "  </thead>\n",
       "  <tbody>\n",
       "    <tr>\n",
       "      <th>HighTemp</th>\n",
       "      <td>1.000000</td>\n",
       "      <td>0.823853</td>\n",
       "      <td>-0.345898</td>\n",
       "      <td>0.739377</td>\n",
       "      <td>0.720175</td>\n",
       "      <td>0.764336</td>\n",
       "      <td>0.727825</td>\n",
       "      <td>0.743344</td>\n",
       "    </tr>\n",
       "    <tr>\n",
       "      <th>LowTemp</th>\n",
       "      <td>0.823853</td>\n",
       "      <td>1.000000</td>\n",
       "      <td>-0.165441</td>\n",
       "      <td>0.464550</td>\n",
       "      <td>0.465097</td>\n",
       "      <td>0.534212</td>\n",
       "      <td>0.475725</td>\n",
       "      <td>0.492124</td>\n",
       "    </tr>\n",
       "    <tr>\n",
       "      <th>Precipitation</th>\n",
       "      <td>-0.345898</td>\n",
       "      <td>-0.165441</td>\n",
       "      <td>1.000000</td>\n",
       "      <td>-0.599514</td>\n",
       "      <td>-0.588419</td>\n",
       "      <td>-0.576076</td>\n",
       "      <td>-0.596254</td>\n",
       "      <td>-0.591079</td>\n",
       "    </tr>\n",
       "    <tr>\n",
       "      <th>Brooklyn Bridge</th>\n",
       "      <td>0.739377</td>\n",
       "      <td>0.464550</td>\n",
       "      <td>-0.599514</td>\n",
       "      <td>1.000000</td>\n",
       "      <td>0.983148</td>\n",
       "      <td>0.980463</td>\n",
       "      <td>0.976991</td>\n",
       "      <td>0.989339</td>\n",
       "    </tr>\n",
       "    <tr>\n",
       "      <th>Manhattan Bridge</th>\n",
       "      <td>0.720175</td>\n",
       "      <td>0.465097</td>\n",
       "      <td>-0.588419</td>\n",
       "      <td>0.983148</td>\n",
       "      <td>1.000000</td>\n",
       "      <td>0.989805</td>\n",
       "      <td>0.985867</td>\n",
       "      <td>0.996323</td>\n",
       "    </tr>\n",
       "    <tr>\n",
       "      <th>Williamsburg Bridge</th>\n",
       "      <td>0.764336</td>\n",
       "      <td>0.534212</td>\n",
       "      <td>-0.576076</td>\n",
       "      <td>0.980463</td>\n",
       "      <td>0.989805</td>\n",
       "      <td>1.000000</td>\n",
       "      <td>0.988852</td>\n",
       "      <td>0.996639</td>\n",
       "    </tr>\n",
       "    <tr>\n",
       "      <th>Queensboro Bridge</th>\n",
       "      <td>0.727825</td>\n",
       "      <td>0.475725</td>\n",
       "      <td>-0.596254</td>\n",
       "      <td>0.976991</td>\n",
       "      <td>0.985867</td>\n",
       "      <td>0.988852</td>\n",
       "      <td>1.000000</td>\n",
       "      <td>0.993391</td>\n",
       "    </tr>\n",
       "    <tr>\n",
       "      <th>Total</th>\n",
       "      <td>0.743344</td>\n",
       "      <td>0.492124</td>\n",
       "      <td>-0.591079</td>\n",
       "      <td>0.989339</td>\n",
       "      <td>0.996323</td>\n",
       "      <td>0.996639</td>\n",
       "      <td>0.993391</td>\n",
       "      <td>1.000000</td>\n",
       "    </tr>\n",
       "  </tbody>\n",
       "</table>\n",
       "</div>"
      ],
      "text/plain": [
       "                     HighTemp   LowTemp  Precipitation  Brooklyn Bridge  \\\n",
       "HighTemp             1.000000  0.823853      -0.345898         0.739377   \n",
       "LowTemp              0.823853  1.000000      -0.165441         0.464550   \n",
       "Precipitation       -0.345898 -0.165441       1.000000        -0.599514   \n",
       "Brooklyn Bridge      0.739377  0.464550      -0.599514         1.000000   \n",
       "Manhattan Bridge     0.720175  0.465097      -0.588419         0.983148   \n",
       "Williamsburg Bridge  0.764336  0.534212      -0.576076         0.980463   \n",
       "Queensboro Bridge    0.727825  0.475725      -0.596254         0.976991   \n",
       "Total                0.743344  0.492124      -0.591079         0.989339   \n",
       "\n",
       "                     Manhattan Bridge  Williamsburg Bridge  Queensboro Bridge  \\\n",
       "HighTemp                     0.720175             0.764336           0.727825   \n",
       "LowTemp                      0.465097             0.534212           0.475725   \n",
       "Precipitation               -0.588419            -0.576076          -0.596254   \n",
       "Brooklyn Bridge              0.983148             0.980463           0.976991   \n",
       "Manhattan Bridge             1.000000             0.989805           0.985867   \n",
       "Williamsburg Bridge          0.989805             1.000000           0.988852   \n",
       "Queensboro Bridge            0.985867             0.988852           1.000000   \n",
       "Total                        0.996323             0.996639           0.993391   \n",
       "\n",
       "                        Total  \n",
       "HighTemp             0.743344  \n",
       "LowTemp              0.492124  \n",
       "Precipitation       -0.591079  \n",
       "Brooklyn Bridge      0.989339  \n",
       "Manhattan Bridge     0.996323  \n",
       "Williamsburg Bridge  0.996639  \n",
       "Queensboro Bridge    0.993391  \n",
       "Total                1.000000  "
      ]
     },
     "execution_count": 14,
     "metadata": {},
     "output_type": "execute_result"
    }
   ],
   "source": [
    "nyc_bike_data.corr()"
   ]
  },
  {
   "cell_type": "code",
   "execution_count": 15,
   "id": "c2f5a60c",
   "metadata": {},
   "outputs": [
    {
     "data": {
      "image/png": "[encoded data removed]",
      "text/plain": [
       "<Figure size 432x288 with 2 Axes>"
      ]
     },
     "metadata": {
      "needs_background": "light"
     },
     "output_type": "display_data"
    }
   ],
   "source": [
    "sns.heatmap(nyc_bike_data.corr(), annot=True)\n",
    "plt.show()"
   ]
  },
  {
   "cell_type": "markdown",
   "id": "c49d9b90",
   "metadata": {},
   "source": [
    "The Heatmap above shows that the `Total` bicycle crossing has high positive correlations with the `HighTemp` and `LowTemp`, and it has a small negative correlation with the `Precipitation`."
   ]
  },
  {
   "cell_type": "code",
   "execution_count": 16,
   "id": "6e315a06",
   "metadata": {},
   "outputs": [
    {
     "data": {
      "text/plain": [
       "<seaborn.axisgrid.FacetGrid at 0x282ce012eb0>"
      ]
     },
     "execution_count": 16,
     "metadata": {},
     "output_type": "execute_result"
    },
    {
     "data": {
      "image/png": "[encoded data removed]",
      "text/plain": [
       "<Figure size 360x360 with 1 Axes>"
      ]
     },
     "metadata": {},
     "output_type": "display_data"
    }
   ],
   "source": [
    "# Lets illustrate the negative correlation between Total bicycle crossing and Precipitation.\n",
    "# As seen in the plot below, the number of crossings is higher on days where Precipitation is 0.\n",
    "sns.set(rc={'figure.figsize':(12, 8)})\n",
    "sns.set(style=\"darkgrid\")\n",
    "sns.relplot(x=\"Total\", y=\"Precipitation\", data=nyc_bike_data)"
   ]
  },
  {
   "cell_type": "markdown",
   "id": "42534029",
   "metadata": {},
   "source": [
    "Let's plot all of the correlations with a regression. As shown below, `HighTemp` and `LowTemp` have high correlatinos with the Total crossings."
   ]
  },
  {
   "cell_type": "code",
   "execution_count": 17,
   "id": "90494757",
   "metadata": {},
   "outputs": [
    {
     "name": "stderr",
     "output_type": "stream",
     "text": [
      "C:\\Users\\cafestock\\anaconda3\\lib\\site-packages\\seaborn\\axisgrid.py:2076: UserWarning: The `size` parameter has been renamed to `height`; please update your code.\n",
      "  warnings.warn(msg, UserWarning)\n"
     ]
    },
    {
     "data": {
      "image/png": "[encoded data removed]",
      "text/plain": [
       "<Figure size 1296x432 with 3 Axes>"
      ]
     },
     "metadata": {},
     "output_type": "display_data"
    }
   ],
   "source": [
    "sns.pairplot(nyc_bike_data, x_vars=['HighTemp', 'LowTemp','Precipitation'], y_vars='Total', kind='reg', size=6)\n",
    "plt.show()"
   ]
  },
  {
   "cell_type": "markdown",
   "id": "714a4f36",
   "metadata": {},
   "source": [
    "### Poisson Regression"
   ]
  },
  {
   "cell_type": "code",
   "execution_count": 19,
   "id": "f36b7168",
   "metadata": {},
   "outputs": [],
   "source": [
    "# Let's train a poisson regressor model to predict the amount of bicycle crossings based\n",
    "# on the temperature and Precipitation\n",
    "X = nyc_bike_data[[\"HighTemp\", \"LowTemp\", \"Precipitation\"]]\n",
    "y = nyc_bike_data['Total']\n",
    "\n",
    "X_train, X_test, y_train, y_test = train_test_split(X, y, test_size=.33)"
   ]
  },
  {
   "cell_type": "code",
   "execution_count": 20,
   "id": "108565c2",
   "metadata": {},
   "outputs": [
    {
     "data": {
      "text/plain": [
       "(8.506855358519745, array([ 0.02383293, -0.00564701, -1.9650261 ]))"
      ]
     },
     "execution_count": 20,
     "metadata": {},
     "output_type": "execute_result"
    }
   ],
   "source": [
    "model = PoissonRegressor()\n",
    "res = model.fit(X_train, y_train)\n",
    "res.intercept_, res.coef_"
   ]
  },
  {
   "cell_type": "code",
   "execution_count": 21,
   "id": "ad273471",
   "metadata": {},
   "outputs": [
    {
     "data": {
      "text/plain": [
       "3440.278137601053"
      ]
     },
     "execution_count": 21,
     "metadata": {},
     "output_type": "execute_result"
    }
   ],
   "source": [
    "y_pred = model.predict(X_test)\n",
    "np.sqrt(metrics.mean_squared_error(y_pred, y_test))"
   ]
  },
  {
   "cell_type": "code",
   "execution_count": 22,
   "id": "9f6ea85e",
   "metadata": {},
   "outputs": [
    {
     "data": {
      "text/html": [
       "<div>\n",
       "<style scoped>\n",
       "    .dataframe tbody tr th:only-of-type {\n",
       "        vertical-align: middle;\n",
       "    }\n",
       "\n",
       "    .dataframe tbody tr th {\n",
       "        vertical-align: top;\n",
       "    }\n",
       "\n",
       "    .dataframe thead th {\n",
       "        text-align: right;\n",
       "    }\n",
       "</style>\n",
       "<table border=\"1\" class=\"dataframe\">\n",
       "  <thead>\n",
       "    <tr style=\"text-align: right;\">\n",
       "      <th></th>\n",
       "      <th>HighTemp</th>\n",
       "      <th>LowTemp</th>\n",
       "      <th>Precipitation</th>\n",
       "      <th>Total</th>\n",
       "      <th>Predicted Total</th>\n",
       "      <th>Error</th>\n",
       "    </tr>\n",
       "    <tr>\n",
       "      <th>Date</th>\n",
       "      <th></th>\n",
       "      <th></th>\n",
       "      <th></th>\n",
       "      <th></th>\n",
       "      <th></th>\n",
       "      <th></th>\n",
       "    </tr>\n",
       "  </thead>\n",
       "  <tbody>\n",
       "    <tr>\n",
       "      <th>2016-04-22</th>\n",
       "      <td>78.1</td>\n",
       "      <td>63.0</td>\n",
       "      <td>0.00</td>\n",
       "      <td>17837</td>\n",
       "      <td>22302</td>\n",
       "      <td>4465</td>\n",
       "    </tr>\n",
       "    <tr>\n",
       "      <th>2016-04-23</th>\n",
       "      <td>70.0</td>\n",
       "      <td>61.0</td>\n",
       "      <td>0.16</td>\n",
       "      <td>13426</td>\n",
       "      <td>13579</td>\n",
       "      <td>153</td>\n",
       "    </tr>\n",
       "    <tr>\n",
       "      <th>2016-04-16</th>\n",
       "      <td>66.0</td>\n",
       "      <td>45.0</td>\n",
       "      <td>0.00</td>\n",
       "      <td>16375</td>\n",
       "      <td>18503</td>\n",
       "      <td>2128</td>\n",
       "    </tr>\n",
       "    <tr>\n",
       "      <th>2016-04-17</th>\n",
       "      <td>73.9</td>\n",
       "      <td>46.0</td>\n",
       "      <td>0.00</td>\n",
       "      <td>18180</td>\n",
       "      <td>22211</td>\n",
       "      <td>4031</td>\n",
       "    </tr>\n",
       "    <tr>\n",
       "      <th>2016-04-09</th>\n",
       "      <td>43.0</td>\n",
       "      <td>37.9</td>\n",
       "      <td>0.09</td>\n",
       "      <td>4510</td>\n",
       "      <td>9328</td>\n",
       "      <td>4818</td>\n",
       "    </tr>\n",
       "    <tr>\n",
       "      <th>2016-04-02</th>\n",
       "      <td>55.0</td>\n",
       "      <td>48.9</td>\n",
       "      <td>0.15</td>\n",
       "      <td>6922</td>\n",
       "      <td>10371</td>\n",
       "      <td>3449</td>\n",
       "    </tr>\n",
       "    <tr>\n",
       "      <th>2016-04-18</th>\n",
       "      <td>81.0</td>\n",
       "      <td>52.0</td>\n",
       "      <td>0.00</td>\n",
       "      <td>23090</td>\n",
       "      <td>25429</td>\n",
       "      <td>2339</td>\n",
       "    </tr>\n",
       "    <tr>\n",
       "      <th>2016-04-03</th>\n",
       "      <td>39.9</td>\n",
       "      <td>34.0</td>\n",
       "      <td>0.09</td>\n",
       "      <td>4759</td>\n",
       "      <td>8856</td>\n",
       "      <td>4097</td>\n",
       "    </tr>\n",
       "    <tr>\n",
       "      <th>2016-04-11</th>\n",
       "      <td>62.1</td>\n",
       "      <td>46.0</td>\n",
       "      <td>0.01</td>\n",
       "      <td>13312</td>\n",
       "      <td>16439</td>\n",
       "      <td>3127</td>\n",
       "    </tr>\n",
       "    <tr>\n",
       "      <th>2016-04-27</th>\n",
       "      <td>62.1</td>\n",
       "      <td>46.9</td>\n",
       "      <td>0.00</td>\n",
       "      <td>19914</td>\n",
       "      <td>16681</td>\n",
       "      <td>-3233</td>\n",
       "    </tr>\n",
       "  </tbody>\n",
       "</table>\n",
       "</div>"
      ],
      "text/plain": [
       "            HighTemp  LowTemp  Precipitation  Total  Predicted Total  Error\n",
       "Date                                                                       \n",
       "2016-04-22      78.1     63.0           0.00  17837            22302   4465\n",
       "2016-04-23      70.0     61.0           0.16  13426            13579    153\n",
       "2016-04-16      66.0     45.0           0.00  16375            18503   2128\n",
       "2016-04-17      73.9     46.0           0.00  18180            22211   4031\n",
       "2016-04-09      43.0     37.9           0.09   4510             9328   4818\n",
       "2016-04-02      55.0     48.9           0.15   6922            10371   3449\n",
       "2016-04-18      81.0     52.0           0.00  23090            25429   2339\n",
       "2016-04-03      39.9     34.0           0.09   4759             8856   4097\n",
       "2016-04-11      62.1     46.0           0.01  13312            16439   3127\n",
       "2016-04-27      62.1     46.9           0.00  19914            16681  -3233"
      ]
     },
     "execution_count": 22,
     "metadata": {},
     "output_type": "execute_result"
    }
   ],
   "source": [
    "df = pd.DataFrame({})\n",
    "df = pd.concat([X_test, y_test], axis=1)\n",
    "df['Predicted Total'] = y_pred.astype('int64')\n",
    "df['Error'] = df['Predicted Total'] - df['Total']\n",
    "df"
   ]
  }
 ],
 "metadata": {
  "kernelspec": {
   "display_name": "Python 3 (ipykernel)",
   "language": "python",
   "name": "python3"
  },
  "language_info": {
   "codemirror_mode": {
    "name": "ipython",
    "version": 3
   },
   "file_extension": ".py",
   "mimetype": "text/x-python",
   "name": "python",
   "nbconvert_exporter": "python",
   "pygments_lexer": "ipython3",
   "version": "3.9.7"
  }
 },
 "nbformat": 4,
 "nbformat_minor": 5
}
