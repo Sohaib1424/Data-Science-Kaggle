{
 "cells": [
  {
   "cell_type": "code",
   "execution_count": 1,
   "id": "289ffb30",
   "metadata": {},
   "outputs": [],
   "source": [
    "import numpy as np\n",
    "import pandas as pd\n",
    "import matplotlib.pyplot as plt\n",
    "import seaborn as sns\n",
    "from sklearn.linear_model import LinearRegression\n",
    "from sklearn.model_selection import train_test_split\n",
    "from sklearn import metrics"
   ]
  },
  {
   "cell_type": "markdown",
   "id": "148e8f98",
   "metadata": {},
   "source": [
    "The data we'll be working with includes a hourly/daily summary for Szeged, Hungary area, between 2006 and 2016.\n",
    "\n",
    "Here is the link for the data on Kaggle: \n",
    "https://www.kaggle.com/datasets/budincsevity/szeged-weather\n",
    "\n",
    "The goals of analyzing this data is to answer these questions:\n",
    "- Is there a relationship between humidity and temperature?\n",
    "- What about relationship between humidity and apparent temperature?\n",
    "- Can we predict the apparent temperature given the humidity?"
   ]
  },
  {
   "cell_type": "markdown",
   "id": "0d79ba51",
   "metadata": {},
   "source": [
    "### Reading Data"
   ]
  },
  {
   "cell_type": "code",
   "execution_count": 2,
   "id": "b8341e28",
   "metadata": {},
   "outputs": [],
   "source": [
    "weatherData = pd.read_csv(\"weatherHistory.csv\", index_col=\"Formatted Date\", parse_dates = True)"
   ]
  },
  {
   "cell_type": "code",
   "execution_count": 3,
   "id": "519a74ae",
   "metadata": {},
   "outputs": [
    {
     "data": {
      "text/html": [
       "<div>\n",
       "<style scoped>\n",
       "    .dataframe tbody tr th:only-of-type {\n",
       "        vertical-align: middle;\n",
       "    }\n",
       "\n",
       "    .dataframe tbody tr th {\n",
       "        vertical-align: top;\n",
       "    }\n",
       "\n",
       "    .dataframe thead th {\n",
       "        text-align: right;\n",
       "    }\n",
       "</style>\n",
       "<table border=\"1\" class=\"dataframe\">\n",
       "  <thead>\n",
       "    <tr style=\"text-align: right;\">\n",
       "      <th></th>\n",
       "      <th>Summary</th>\n",
       "      <th>Precip Type</th>\n",
       "      <th>Temperature (C)</th>\n",
       "      <th>Apparent Temperature (C)</th>\n",
       "      <th>Humidity</th>\n",
       "      <th>Wind Speed (km/h)</th>\n",
       "      <th>Wind Bearing (degrees)</th>\n",
       "      <th>Visibility (km)</th>\n",
       "      <th>Loud Cover</th>\n",
       "      <th>Pressure (millibars)</th>\n",
       "      <th>Daily Summary</th>\n",
       "    </tr>\n",
       "    <tr>\n",
       "      <th>Formatted Date</th>\n",
       "      <th></th>\n",
       "      <th></th>\n",
       "      <th></th>\n",
       "      <th></th>\n",
       "      <th></th>\n",
       "      <th></th>\n",
       "      <th></th>\n",
       "      <th></th>\n",
       "      <th></th>\n",
       "      <th></th>\n",
       "      <th></th>\n",
       "    </tr>\n",
       "  </thead>\n",
       "  <tbody>\n",
       "    <tr>\n",
       "      <th>2006-04-01 00:00:00+02:00</th>\n",
       "      <td>Partly Cloudy</td>\n",
       "      <td>rain</td>\n",
       "      <td>9.472222</td>\n",
       "      <td>7.388889</td>\n",
       "      <td>0.89</td>\n",
       "      <td>14.1197</td>\n",
       "      <td>251.0</td>\n",
       "      <td>15.8263</td>\n",
       "      <td>0.0</td>\n",
       "      <td>1015.13</td>\n",
       "      <td>Partly cloudy throughout the day.</td>\n",
       "    </tr>\n",
       "    <tr>\n",
       "      <th>2006-04-01 01:00:00+02:00</th>\n",
       "      <td>Partly Cloudy</td>\n",
       "      <td>rain</td>\n",
       "      <td>9.355556</td>\n",
       "      <td>7.227778</td>\n",
       "      <td>0.86</td>\n",
       "      <td>14.2646</td>\n",
       "      <td>259.0</td>\n",
       "      <td>15.8263</td>\n",
       "      <td>0.0</td>\n",
       "      <td>1015.63</td>\n",
       "      <td>Partly cloudy throughout the day.</td>\n",
       "    </tr>\n",
       "    <tr>\n",
       "      <th>2006-04-01 02:00:00+02:00</th>\n",
       "      <td>Mostly Cloudy</td>\n",
       "      <td>rain</td>\n",
       "      <td>9.377778</td>\n",
       "      <td>9.377778</td>\n",
       "      <td>0.89</td>\n",
       "      <td>3.9284</td>\n",
       "      <td>204.0</td>\n",
       "      <td>14.9569</td>\n",
       "      <td>0.0</td>\n",
       "      <td>1015.94</td>\n",
       "      <td>Partly cloudy throughout the day.</td>\n",
       "    </tr>\n",
       "    <tr>\n",
       "      <th>2006-04-01 03:00:00+02:00</th>\n",
       "      <td>Partly Cloudy</td>\n",
       "      <td>rain</td>\n",
       "      <td>8.288889</td>\n",
       "      <td>5.944444</td>\n",
       "      <td>0.83</td>\n",
       "      <td>14.1036</td>\n",
       "      <td>269.0</td>\n",
       "      <td>15.8263</td>\n",
       "      <td>0.0</td>\n",
       "      <td>1016.41</td>\n",
       "      <td>Partly cloudy throughout the day.</td>\n",
       "    </tr>\n",
       "    <tr>\n",
       "      <th>2006-04-01 04:00:00+02:00</th>\n",
       "      <td>Mostly Cloudy</td>\n",
       "      <td>rain</td>\n",
       "      <td>8.755556</td>\n",
       "      <td>6.977778</td>\n",
       "      <td>0.83</td>\n",
       "      <td>11.0446</td>\n",
       "      <td>259.0</td>\n",
       "      <td>15.8263</td>\n",
       "      <td>0.0</td>\n",
       "      <td>1016.51</td>\n",
       "      <td>Partly cloudy throughout the day.</td>\n",
       "    </tr>\n",
       "  </tbody>\n",
       "</table>\n",
       "</div>"
      ],
      "text/plain": [
       "                                 Summary Precip Type  Temperature (C)  \\\n",
       "Formatted Date                                                          \n",
       "2006-04-01 00:00:00+02:00  Partly Cloudy        rain         9.472222   \n",
       "2006-04-01 01:00:00+02:00  Partly Cloudy        rain         9.355556   \n",
       "2006-04-01 02:00:00+02:00  Mostly Cloudy        rain         9.377778   \n",
       "2006-04-01 03:00:00+02:00  Partly Cloudy        rain         8.288889   \n",
       "2006-04-01 04:00:00+02:00  Mostly Cloudy        rain         8.755556   \n",
       "\n",
       "                           Apparent Temperature (C)  Humidity  \\\n",
       "Formatted Date                                                  \n",
       "2006-04-01 00:00:00+02:00                  7.388889      0.89   \n",
       "2006-04-01 01:00:00+02:00                  7.227778      0.86   \n",
       "2006-04-01 02:00:00+02:00                  9.377778      0.89   \n",
       "2006-04-01 03:00:00+02:00                  5.944444      0.83   \n",
       "2006-04-01 04:00:00+02:00                  6.977778      0.83   \n",
       "\n",
       "                           Wind Speed (km/h)  Wind Bearing (degrees)  \\\n",
       "Formatted Date                                                         \n",
       "2006-04-01 00:00:00+02:00            14.1197                   251.0   \n",
       "2006-04-01 01:00:00+02:00            14.2646                   259.0   \n",
       "2006-04-01 02:00:00+02:00             3.9284                   204.0   \n",
       "2006-04-01 03:00:00+02:00            14.1036                   269.0   \n",
       "2006-04-01 04:00:00+02:00            11.0446                   259.0   \n",
       "\n",
       "                           Visibility (km)  Loud Cover  Pressure (millibars)  \\\n",
       "Formatted Date                                                                 \n",
       "2006-04-01 00:00:00+02:00          15.8263         0.0               1015.13   \n",
       "2006-04-01 01:00:00+02:00          15.8263         0.0               1015.63   \n",
       "2006-04-01 02:00:00+02:00          14.9569         0.0               1015.94   \n",
       "2006-04-01 03:00:00+02:00          15.8263         0.0               1016.41   \n",
       "2006-04-01 04:00:00+02:00          15.8263         0.0               1016.51   \n",
       "\n",
       "                                               Daily Summary  \n",
       "Formatted Date                                                \n",
       "2006-04-01 00:00:00+02:00  Partly cloudy throughout the day.  \n",
       "2006-04-01 01:00:00+02:00  Partly cloudy throughout the day.  \n",
       "2006-04-01 02:00:00+02:00  Partly cloudy throughout the day.  \n",
       "2006-04-01 03:00:00+02:00  Partly cloudy throughout the day.  \n",
       "2006-04-01 04:00:00+02:00  Partly cloudy throughout the day.  "
      ]
     },
     "execution_count": 3,
     "metadata": {},
     "output_type": "execute_result"
    }
   ],
   "source": [
    "weatherData.head()"
   ]
  },
  {
   "cell_type": "markdown",
   "id": "001a774d",
   "metadata": {},
   "source": [
    "### Cleaning Data"
   ]
  },
  {
   "cell_type": "code",
   "execution_count": 4,
   "id": "e8605a1b",
   "metadata": {},
   "outputs": [],
   "source": [
    "# Renaming columns\n",
    "weatherData = weatherData.rename(columns={\"Temperature (C)\":\"Temp\", \"Apparent Temperature (C)\":\"ApparentTemp\",\n",
    "                       \"Wind Speed (km/h)\": \"WindSpeed\", \"Wind Bearing (degrees)\": \"WindBearing\",\n",
    "                       \"Visibility (km)\": \"Visibility\", \"Pressure (millibars)\":\"Pressure\"})"
   ]
  },
  {
   "cell_type": "code",
   "execution_count": 5,
   "id": "c16d480e",
   "metadata": {},
   "outputs": [
    {
     "data": {
      "text/plain": [
       "Summary           object\n",
       "Precip Type       object\n",
       "Temp             float64\n",
       "ApparentTemp     float64\n",
       "Humidity         float64\n",
       "WindSpeed        float64\n",
       "WindBearing      float64\n",
       "Visibility       float64\n",
       "Loud Cover       float64\n",
       "Pressure         float64\n",
       "Daily Summary     object\n",
       "dtype: object"
      ]
     },
     "execution_count": 5,
     "metadata": {},
     "output_type": "execute_result"
    }
   ],
   "source": [
    "weatherData.dtypes"
   ]
  },
  {
   "cell_type": "code",
   "execution_count": 6,
   "id": "192aecb4",
   "metadata": {},
   "outputs": [
    {
     "data": {
      "text/plain": [
       "Summary            0\n",
       "Precip Type      517\n",
       "Temp               0\n",
       "ApparentTemp       0\n",
       "Humidity           0\n",
       "WindSpeed          0\n",
       "WindBearing        0\n",
       "Visibility         0\n",
       "Loud Cover         0\n",
       "Pressure           0\n",
       "Daily Summary      0\n",
       "dtype: int64"
      ]
     },
     "execution_count": 6,
     "metadata": {},
     "output_type": "execute_result"
    }
   ],
   "source": [
    "# Checking for null values\n",
    "np.sum(weatherData.isnull())"
   ]
  },
  {
   "cell_type": "code",
   "execution_count": 7,
   "id": "687a7a7d",
   "metadata": {},
   "outputs": [],
   "source": [
    "# Dropping rows containing NaN\n",
    "weatherData = weatherData.dropna()"
   ]
  },
  {
   "cell_type": "code",
   "execution_count": 8,
   "id": "1ca5b093",
   "metadata": {},
   "outputs": [
    {
     "data": {
      "text/html": [
       "<div>\n",
       "<style scoped>\n",
       "    .dataframe tbody tr th:only-of-type {\n",
       "        vertical-align: middle;\n",
       "    }\n",
       "\n",
       "    .dataframe tbody tr th {\n",
       "        vertical-align: top;\n",
       "    }\n",
       "\n",
       "    .dataframe thead th {\n",
       "        text-align: right;\n",
       "    }\n",
       "</style>\n",
       "<table border=\"1\" class=\"dataframe\">\n",
       "  <thead>\n",
       "    <tr style=\"text-align: right;\">\n",
       "      <th></th>\n",
       "      <th>Temp</th>\n",
       "      <th>ApparentTemp</th>\n",
       "      <th>Humidity</th>\n",
       "      <th>WindSpeed</th>\n",
       "      <th>WindBearing</th>\n",
       "      <th>Visibility</th>\n",
       "      <th>Loud Cover</th>\n",
       "      <th>Pressure</th>\n",
       "    </tr>\n",
       "  </thead>\n",
       "  <tbody>\n",
       "    <tr>\n",
       "      <th>count</th>\n",
       "      <td>95936.000000</td>\n",
       "      <td>95936.000000</td>\n",
       "      <td>95936.000000</td>\n",
       "      <td>95936.000000</td>\n",
       "      <td>95936.000000</td>\n",
       "      <td>95936.000000</td>\n",
       "      <td>95936.0</td>\n",
       "      <td>95936.000000</td>\n",
       "    </tr>\n",
       "    <tr>\n",
       "      <th>mean</th>\n",
       "      <td>11.940976</td>\n",
       "      <td>10.862531</td>\n",
       "      <td>0.734841</td>\n",
       "      <td>10.804936</td>\n",
       "      <td>187.518773</td>\n",
       "      <td>10.362402</td>\n",
       "      <td>0.0</td>\n",
       "      <td>1003.150038</td>\n",
       "    </tr>\n",
       "    <tr>\n",
       "      <th>std</th>\n",
       "      <td>9.570671</td>\n",
       "      <td>10.717812</td>\n",
       "      <td>0.195724</td>\n",
       "      <td>6.920727</td>\n",
       "      <td>107.385351</td>\n",
       "      <td>4.173780</td>\n",
       "      <td>0.0</td>\n",
       "      <td>117.276976</td>\n",
       "    </tr>\n",
       "    <tr>\n",
       "      <th>min</th>\n",
       "      <td>-21.822222</td>\n",
       "      <td>-27.716667</td>\n",
       "      <td>0.000000</td>\n",
       "      <td>0.000000</td>\n",
       "      <td>0.000000</td>\n",
       "      <td>0.000000</td>\n",
       "      <td>0.0</td>\n",
       "      <td>0.000000</td>\n",
       "    </tr>\n",
       "    <tr>\n",
       "      <th>25%</th>\n",
       "      <td>4.604167</td>\n",
       "      <td>2.276389</td>\n",
       "      <td>0.600000</td>\n",
       "      <td>5.796000</td>\n",
       "      <td>116.000000</td>\n",
       "      <td>8.372000</td>\n",
       "      <td>0.0</td>\n",
       "      <td>1011.890000</td>\n",
       "    </tr>\n",
       "    <tr>\n",
       "      <th>50%</th>\n",
       "      <td>12.033333</td>\n",
       "      <td>12.033333</td>\n",
       "      <td>0.780000</td>\n",
       "      <td>9.933700</td>\n",
       "      <td>180.000000</td>\n",
       "      <td>10.046400</td>\n",
       "      <td>0.0</td>\n",
       "      <td>1016.420000</td>\n",
       "    </tr>\n",
       "    <tr>\n",
       "      <th>75%</th>\n",
       "      <td>18.844444</td>\n",
       "      <td>18.844444</td>\n",
       "      <td>0.890000</td>\n",
       "      <td>14.135800</td>\n",
       "      <td>290.000000</td>\n",
       "      <td>14.812000</td>\n",
       "      <td>0.0</td>\n",
       "      <td>1021.050000</td>\n",
       "    </tr>\n",
       "    <tr>\n",
       "      <th>max</th>\n",
       "      <td>39.905556</td>\n",
       "      <td>39.344444</td>\n",
       "      <td>1.000000</td>\n",
       "      <td>63.852600</td>\n",
       "      <td>359.000000</td>\n",
       "      <td>16.100000</td>\n",
       "      <td>0.0</td>\n",
       "      <td>1046.380000</td>\n",
       "    </tr>\n",
       "  </tbody>\n",
       "</table>\n",
       "</div>"
      ],
      "text/plain": [
       "               Temp  ApparentTemp      Humidity     WindSpeed   WindBearing  \\\n",
       "count  95936.000000  95936.000000  95936.000000  95936.000000  95936.000000   \n",
       "mean      11.940976     10.862531      0.734841     10.804936    187.518773   \n",
       "std        9.570671     10.717812      0.195724      6.920727    107.385351   \n",
       "min      -21.822222    -27.716667      0.000000      0.000000      0.000000   \n",
       "25%        4.604167      2.276389      0.600000      5.796000    116.000000   \n",
       "50%       12.033333     12.033333      0.780000      9.933700    180.000000   \n",
       "75%       18.844444     18.844444      0.890000     14.135800    290.000000   \n",
       "max       39.905556     39.344444      1.000000     63.852600    359.000000   \n",
       "\n",
       "         Visibility  Loud Cover      Pressure  \n",
       "count  95936.000000     95936.0  95936.000000  \n",
       "mean      10.362402         0.0   1003.150038  \n",
       "std        4.173780         0.0    117.276976  \n",
       "min        0.000000         0.0      0.000000  \n",
       "25%        8.372000         0.0   1011.890000  \n",
       "50%       10.046400         0.0   1016.420000  \n",
       "75%       14.812000         0.0   1021.050000  \n",
       "max       16.100000         0.0   1046.380000  "
      ]
     },
     "execution_count": 8,
     "metadata": {},
     "output_type": "execute_result"
    }
   ],
   "source": [
    "weatherData.describe()"
   ]
  },
  {
   "cell_type": "markdown",
   "id": "2e35f604",
   "metadata": {},
   "source": [
    "From the table above we see that some columns contain zero values which is not logical. For instance, the column `Pressure` contains zero in some of its cells (the pressure of a complete vacuum). Other columns such as `Visibility`, `WindSpeed`, `Humidity` also should not contain zero. Although it is theoretically possible for these three variables to be zero, but these are unikely to accure in a city. Thus, we'll replace all zeros with the last valid observation in each column since the data that we are working with is an __hourly/daily__ summary and later observations are slightly different from previous observations.\n",
    "\n",
    "Also, The column `Loud Cover` has no use since every cell contains zero. Thus, we'll drop this column."
   ]
  },
  {
   "cell_type": "code",
   "execution_count": 9,
   "id": "50cbad81",
   "metadata": {},
   "outputs": [],
   "source": [
    "# Dropping useless columns\n",
    "weatherData = weatherData.drop(columns=[\"Loud Cover\"])"
   ]
  },
  {
   "cell_type": "code",
   "execution_count": 10,
   "id": "20cffb93",
   "metadata": {},
   "outputs": [],
   "source": [
    "# Replacing zeros with NaN\n",
    "weatherData[\"Pressure\"] = weatherData[\"Pressure\"].replace(0, np.nan)\n",
    "weatherData[\"Visibility\"] = weatherData[\"Visibility\"].replace(0, np.nan)\n",
    "weatherData[\"WindSpeed\"] = weatherData[\"WindSpeed\"].replace(0, np.nan)\n",
    "weatherData[\"Humidity\"] = weatherData[\"Humidity\"].replace(0, np.nan)"
   ]
  },
  {
   "cell_type": "code",
   "execution_count": 11,
   "id": "cc812431",
   "metadata": {},
   "outputs": [],
   "source": [
    "weatherData.fillna(method=\"ffill\", inplace=True)"
   ]
  },
  {
   "cell_type": "code",
   "execution_count": 12,
   "id": "6aa14a19",
   "metadata": {},
   "outputs": [
    {
     "data": {
      "text/html": [
       "<div>\n",
       "<style scoped>\n",
       "    .dataframe tbody tr th:only-of-type {\n",
       "        vertical-align: middle;\n",
       "    }\n",
       "\n",
       "    .dataframe tbody tr th {\n",
       "        vertical-align: top;\n",
       "    }\n",
       "\n",
       "    .dataframe thead th {\n",
       "        text-align: right;\n",
       "    }\n",
       "</style>\n",
       "<table border=\"1\" class=\"dataframe\">\n",
       "  <thead>\n",
       "    <tr style=\"text-align: right;\">\n",
       "      <th></th>\n",
       "      <th>Temp</th>\n",
       "      <th>ApparentTemp</th>\n",
       "      <th>Humidity</th>\n",
       "      <th>WindSpeed</th>\n",
       "      <th>WindBearing</th>\n",
       "      <th>Visibility</th>\n",
       "      <th>Pressure</th>\n",
       "    </tr>\n",
       "  </thead>\n",
       "  <tbody>\n",
       "    <tr>\n",
       "      <th>count</th>\n",
       "      <td>95936.000000</td>\n",
       "      <td>95936.000000</td>\n",
       "      <td>95936.000000</td>\n",
       "      <td>95936.000000</td>\n",
       "      <td>95936.000000</td>\n",
       "      <td>95936.000000</td>\n",
       "      <td>95936.000000</td>\n",
       "    </tr>\n",
       "    <tr>\n",
       "      <th>mean</th>\n",
       "      <td>11.940976</td>\n",
       "      <td>10.862531</td>\n",
       "      <td>0.735013</td>\n",
       "      <td>10.858981</td>\n",
       "      <td>187.518773</td>\n",
       "      <td>10.389955</td>\n",
       "      <td>1016.804799</td>\n",
       "    </tr>\n",
       "    <tr>\n",
       "      <th>std</th>\n",
       "      <td>9.570671</td>\n",
       "      <td>10.717812</td>\n",
       "      <td>0.195419</td>\n",
       "      <td>6.858168</td>\n",
       "      <td>107.385351</td>\n",
       "      <td>4.150039</td>\n",
       "      <td>7.771537</td>\n",
       "    </tr>\n",
       "    <tr>\n",
       "      <th>min</th>\n",
       "      <td>-21.822222</td>\n",
       "      <td>-27.716667</td>\n",
       "      <td>0.120000</td>\n",
       "      <td>0.032200</td>\n",
       "      <td>0.000000</td>\n",
       "      <td>0.016100</td>\n",
       "      <td>973.780000</td>\n",
       "    </tr>\n",
       "    <tr>\n",
       "      <th>25%</th>\n",
       "      <td>4.604167</td>\n",
       "      <td>2.276389</td>\n",
       "      <td>0.600000</td>\n",
       "      <td>5.876500</td>\n",
       "      <td>116.000000</td>\n",
       "      <td>8.420300</td>\n",
       "      <td>1012.110000</td>\n",
       "    </tr>\n",
       "    <tr>\n",
       "      <th>50%</th>\n",
       "      <td>12.033333</td>\n",
       "      <td>12.033333</td>\n",
       "      <td>0.780000</td>\n",
       "      <td>9.949800</td>\n",
       "      <td>180.000000</td>\n",
       "      <td>10.046400</td>\n",
       "      <td>1016.530000</td>\n",
       "    </tr>\n",
       "    <tr>\n",
       "      <th>75%</th>\n",
       "      <td>18.844444</td>\n",
       "      <td>18.844444</td>\n",
       "      <td>0.890000</td>\n",
       "      <td>14.135800</td>\n",
       "      <td>290.000000</td>\n",
       "      <td>14.876400</td>\n",
       "      <td>1021.140000</td>\n",
       "    </tr>\n",
       "    <tr>\n",
       "      <th>max</th>\n",
       "      <td>39.905556</td>\n",
       "      <td>39.344444</td>\n",
       "      <td>1.000000</td>\n",
       "      <td>63.852600</td>\n",
       "      <td>359.000000</td>\n",
       "      <td>16.100000</td>\n",
       "      <td>1046.380000</td>\n",
       "    </tr>\n",
       "  </tbody>\n",
       "</table>\n",
       "</div>"
      ],
      "text/plain": [
       "               Temp  ApparentTemp      Humidity     WindSpeed   WindBearing  \\\n",
       "count  95936.000000  95936.000000  95936.000000  95936.000000  95936.000000   \n",
       "mean      11.940976     10.862531      0.735013     10.858981    187.518773   \n",
       "std        9.570671     10.717812      0.195419      6.858168    107.385351   \n",
       "min      -21.822222    -27.716667      0.120000      0.032200      0.000000   \n",
       "25%        4.604167      2.276389      0.600000      5.876500    116.000000   \n",
       "50%       12.033333     12.033333      0.780000      9.949800    180.000000   \n",
       "75%       18.844444     18.844444      0.890000     14.135800    290.000000   \n",
       "max       39.905556     39.344444      1.000000     63.852600    359.000000   \n",
       "\n",
       "         Visibility      Pressure  \n",
       "count  95936.000000  95936.000000  \n",
       "mean      10.389955   1016.804799  \n",
       "std        4.150039      7.771537  \n",
       "min        0.016100    973.780000  \n",
       "25%        8.420300   1012.110000  \n",
       "50%       10.046400   1016.530000  \n",
       "75%       14.876400   1021.140000  \n",
       "max       16.100000   1046.380000  "
      ]
     },
     "execution_count": 12,
     "metadata": {},
     "output_type": "execute_result"
    }
   ],
   "source": [
    "weatherData.describe()"
   ]
  },
  {
   "cell_type": "markdown",
   "id": "8f994258",
   "metadata": {},
   "source": [
    "Although these steps were unnecessary since we only need __temperature, apparent temperature__ and __humidity__ to work with, but it is a good and simple practice for data cleaning and analyzing, and the data that we have right now is much more logical."
   ]
  },
  {
   "cell_type": "code",
   "execution_count": 13,
   "id": "e2454805",
   "metadata": {},
   "outputs": [
    {
     "data": {
      "image/png": "[encoded data removed]",
      "text/plain": [
       "<Figure size 432x288 with 2 Axes>"
      ]
     },
     "metadata": {
      "needs_background": "light"
     },
     "output_type": "display_data"
    }
   ],
   "source": [
    "sns.heatmap(weatherData.corr(), annot=True)\n",
    "plt.show()"
   ]
  },
  {
   "cell_type": "markdown",
   "id": "c694fde5",
   "metadata": {},
   "source": [
    "The heatmap above shows a relatively larg negative correlation between temperature and humidity, and also between apparent temperature and humidity. Found the answers for the first two questions.\n",
    "\n",
    "Let's plot both correlations with a regression."
   ]
  },
  {
   "cell_type": "code",
   "execution_count": 14,
   "id": "ebd0067c",
   "metadata": {},
   "outputs": [
    {
     "data": {
      "image/png": "[encoded data removed]",
      "text/plain": [
       "<Figure size 864x432 with 2 Axes>"
      ]
     },
     "metadata": {
      "needs_background": "light"
     },
     "output_type": "display_data"
    }
   ],
   "source": [
    "sns.pairplot(weatherData, x_vars=['Temp', 'ApparentTemp'], y_vars='Humidity', kind='reg', height=6)\n",
    "plt.show()"
   ]
  },
  {
   "cell_type": "markdown",
   "id": "0a62177c",
   "metadata": {},
   "source": [
    "### Linear Regression"
   ]
  },
  {
   "cell_type": "code",
   "execution_count": 15,
   "id": "4df4d598",
   "metadata": {},
   "outputs": [],
   "source": [
    "# Let's train a Linear Regression model to predict the Apparent Temperature given the Humidity\n",
    "X = weatherData[\"Humidity\"]\n",
    "y = weatherData['ApparentTemp']\n",
    "\n",
    "X_train, X_test, y_train, y_test = train_test_split(X, y, test_size=.33)"
   ]
  },
  {
   "cell_type": "code",
   "execution_count": 16,
   "id": "77b03a2a",
   "metadata": {},
   "outputs": [
    {
     "data": {
      "text/plain": [
       "(array([35.32271576]), array([[-33.31041955]]))"
      ]
     },
     "execution_count": 16,
     "metadata": {},
     "output_type": "execute_result"
    }
   ],
   "source": [
    "model = LinearRegression()\n",
    "res = model.fit(np.array(X_train).reshape(-1, 1), np.array(y_train).reshape(-1, 1))\n",
    "res.intercept_, res.coef_"
   ]
  },
  {
   "cell_type": "code",
   "execution_count": 17,
   "id": "e6840b71",
   "metadata": {},
   "outputs": [
    {
     "data": {
      "text/plain": [
       "8.491427638080237"
      ]
     },
     "execution_count": 17,
     "metadata": {},
     "output_type": "execute_result"
    }
   ],
   "source": [
    "y_pred = model.predict(np.array(X_test).reshape(-1, 1))\n",
    "np.sqrt(metrics.mean_squared_error(y_pred, y_test))"
   ]
  },
  {
   "cell_type": "code",
   "execution_count": 18,
   "id": "e49f54c8",
   "metadata": {},
   "outputs": [
    {
     "data": {
      "text/html": [
       "<div>\n",
       "<style scoped>\n",
       "    .dataframe tbody tr th:only-of-type {\n",
       "        vertical-align: middle;\n",
       "    }\n",
       "\n",
       "    .dataframe tbody tr th {\n",
       "        vertical-align: top;\n",
       "    }\n",
       "\n",
       "    .dataframe thead th {\n",
       "        text-align: right;\n",
       "    }\n",
       "</style>\n",
       "<table border=\"1\" class=\"dataframe\">\n",
       "  <thead>\n",
       "    <tr style=\"text-align: right;\">\n",
       "      <th></th>\n",
       "      <th>Humidity</th>\n",
       "      <th>ApparentTemp</th>\n",
       "      <th>Predicted Temp</th>\n",
       "      <th>Error</th>\n",
       "    </tr>\n",
       "    <tr>\n",
       "      <th>Formatted Date</th>\n",
       "      <th></th>\n",
       "      <th></th>\n",
       "      <th></th>\n",
       "      <th></th>\n",
       "    </tr>\n",
       "  </thead>\n",
       "  <tbody>\n",
       "    <tr>\n",
       "      <th>2015-09-19 19:00:00+02:00</th>\n",
       "      <td>0.62</td>\n",
       "      <td>24.861111</td>\n",
       "      <td>14</td>\n",
       "      <td>-10.861111</td>\n",
       "    </tr>\n",
       "    <tr>\n",
       "      <th>2010-10-29 03:00:00+02:00</th>\n",
       "      <td>1.00</td>\n",
       "      <td>-1.733333</td>\n",
       "      <td>2</td>\n",
       "      <td>3.733333</td>\n",
       "    </tr>\n",
       "    <tr>\n",
       "      <th>2011-02-22 05:00:00+01:00</th>\n",
       "      <td>0.84</td>\n",
       "      <td>-9.666667</td>\n",
       "      <td>7</td>\n",
       "      <td>16.666667</td>\n",
       "    </tr>\n",
       "    <tr>\n",
       "      <th>2009-08-31 00:00:00+02:00</th>\n",
       "      <td>0.84</td>\n",
       "      <td>16.111111</td>\n",
       "      <td>7</td>\n",
       "      <td>-9.111111</td>\n",
       "    </tr>\n",
       "    <tr>\n",
       "      <th>2009-10-03 03:00:00+02:00</th>\n",
       "      <td>0.80</td>\n",
       "      <td>9.372222</td>\n",
       "      <td>8</td>\n",
       "      <td>-1.372222</td>\n",
       "    </tr>\n",
       "    <tr>\n",
       "      <th>...</th>\n",
       "      <td>...</td>\n",
       "      <td>...</td>\n",
       "      <td>...</td>\n",
       "      <td>...</td>\n",
       "    </tr>\n",
       "    <tr>\n",
       "      <th>2009-11-29 18:00:00+01:00</th>\n",
       "      <td>0.93</td>\n",
       "      <td>3.466667</td>\n",
       "      <td>4</td>\n",
       "      <td>0.533333</td>\n",
       "    </tr>\n",
       "    <tr>\n",
       "      <th>2010-05-10 15:00:00+02:00</th>\n",
       "      <td>0.67</td>\n",
       "      <td>18.838889</td>\n",
       "      <td>13</td>\n",
       "      <td>-5.838889</td>\n",
       "    </tr>\n",
       "    <tr>\n",
       "      <th>2006-04-11 05:00:00+02:00</th>\n",
       "      <td>0.95</td>\n",
       "      <td>10.694444</td>\n",
       "      <td>3</td>\n",
       "      <td>-7.694444</td>\n",
       "    </tr>\n",
       "    <tr>\n",
       "      <th>2014-07-23 11:00:00+02:00</th>\n",
       "      <td>0.80</td>\n",
       "      <td>21.038889</td>\n",
       "      <td>8</td>\n",
       "      <td>-13.038889</td>\n",
       "    </tr>\n",
       "    <tr>\n",
       "      <th>2006-09-14 14:00:00+02:00</th>\n",
       "      <td>0.32</td>\n",
       "      <td>26.144444</td>\n",
       "      <td>24</td>\n",
       "      <td>-2.144444</td>\n",
       "    </tr>\n",
       "  </tbody>\n",
       "</table>\n",
       "<p>31659 rows × 4 columns</p>\n",
       "</div>"
      ],
      "text/plain": [
       "                           Humidity  ApparentTemp  Predicted Temp      Error\n",
       "Formatted Date                                                              \n",
       "2015-09-19 19:00:00+02:00      0.62     24.861111              14 -10.861111\n",
       "2010-10-29 03:00:00+02:00      1.00     -1.733333               2   3.733333\n",
       "2011-02-22 05:00:00+01:00      0.84     -9.666667               7  16.666667\n",
       "2009-08-31 00:00:00+02:00      0.84     16.111111               7  -9.111111\n",
       "2009-10-03 03:00:00+02:00      0.80      9.372222               8  -1.372222\n",
       "...                             ...           ...             ...        ...\n",
       "2009-11-29 18:00:00+01:00      0.93      3.466667               4   0.533333\n",
       "2010-05-10 15:00:00+02:00      0.67     18.838889              13  -5.838889\n",
       "2006-04-11 05:00:00+02:00      0.95     10.694444               3  -7.694444\n",
       "2014-07-23 11:00:00+02:00      0.80     21.038889               8 -13.038889\n",
       "2006-09-14 14:00:00+02:00      0.32     26.144444              24  -2.144444\n",
       "\n",
       "[31659 rows x 4 columns]"
      ]
     },
     "execution_count": 18,
     "metadata": {},
     "output_type": "execute_result"
    }
   ],
   "source": [
    "df = pd.DataFrame({})\n",
    "df = pd.concat([X_test, y_test], axis=1)\n",
    "df['Predicted Temp'] = y_pred.astype('int64')\n",
    "df['Error'] = df['Predicted Temp'] - df['ApparentTemp']\n",
    "df"
   ]
  }
 ],
 "metadata": {
  "kernelspec": {
   "display_name": "Python 3 (ipykernel)",
   "language": "python",
   "name": "python3"
  },
  "language_info": {
   "codemirror_mode": {
    "name": "ipython",
    "version": 3
   },
   "file_extension": ".py",
   "mimetype": "text/x-python",
   "name": "python",
   "nbconvert_exporter": "python",
   "pygments_lexer": "ipython3",
   "version": "3.9.7"
  }
 },
 "nbformat": 4,
 "nbformat_minor": 5
}
